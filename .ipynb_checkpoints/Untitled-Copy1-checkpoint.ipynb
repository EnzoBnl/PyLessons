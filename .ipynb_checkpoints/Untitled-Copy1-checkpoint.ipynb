{
 "cells": [
  {
   "cell_type": "code",
   "execution_count": 29,
   "metadata": {},
   "outputs": [],
   "source": [
    "#Variable Types\n",
    "#int\n",
    "i=4\n",
    "i=-2\n",
    "#float\n",
    "f=1.1\n",
    "f=.56\n",
    "#str\n",
    "s=\"hello\"\n",
    "s='hello'\n",
    "s=\"\"\"hello\n",
    "again\"\"\"\n",
    "#complex\n",
    "c=1+2j\n",
    "#bool\n",
    "b=True\n",
    "b=False"
   ]
  },
  {
   "cell_type": "code",
   "execution_count": 30,
   "metadata": {},
   "outputs": [
    {
     "name": "stdout",
     "output_type": "stream",
     "text": [
      "-2\n",
      "0.56\n",
      "hello\n",
      "again\n",
      "(1+2j)\n",
      "False\n"
     ]
    }
   ],
   "source": [
    "#Print\n",
    "print(i)\n",
    "print(f)\n",
    "print(s)\n",
    "print(c)\n",
    "print(b)"
   ]
  },
  {
   "cell_type": "code",
   "execution_count": 59,
   "metadata": {},
   "outputs": [
    {
     "name": "stdout",
     "output_type": "stream",
     "text": [
      "-1.44\n",
      "chienchat\n",
      "chienchien\n",
      "2\n",
      "1\n",
      "25\n",
      "False\n",
      "True\n",
      "True\n",
      "-8.875\n",
      "-1.0\n"
     ]
    }
   ],
   "source": [
    "#Operators on int and float and complex : \n",
    "# + \n",
    "x=i+f\n",
    "print(x)\n",
    "x=\"chien\"+\"chat\"\n",
    "print(x)\n",
    "#- \n",
    "\n",
    "#* \n",
    "x=\"chien\"*2\n",
    "print(x)\n",
    "#/ \n",
    "\n",
    "#// \n",
    "x=5//2\n",
    "print(x)\n",
    "\n",
    "#% \n",
    "x=5%2\n",
    "print(x)\n",
    "#**\n",
    "x=5**2\n",
    "print(x)\n",
    "#On booleans : \n",
    "#and\n",
    "x=True and False\n",
    "print(x)\n",
    "#or\n",
    "x=True\n",
    "y=False\n",
    "print(x or y)\n",
    "#not\n",
    "x=True\n",
    "y=False\n",
    "print(not y)\n",
    "#Care with parenthesis !\n",
    "print(1/8-9)\n",
    "print(1/(8-9))"
   ]
  },
  {
   "cell_type": "code",
   "execution_count": 44,
   "metadata": {},
   "outputs": [
    {
     "name": "stdout",
     "output_type": "stream",
     "text": [
      "True\n",
      "False\n",
      "True\n"
     ]
    }
   ],
   "source": [
    "#Comparison Operators\n",
    "#Equality : ==\n",
    "x=10\n",
    "print(x==10)\n",
    "#Not equality : !=\n",
    "x=10\n",
    "print(x!=10)\n",
    "#greater than, less than : < <= > >=\n",
    "x=10\n",
    "print(x<=10)"
   ]
  },
  {
   "cell_type": "code",
   "execution_count": 52,
   "metadata": {},
   "outputs": [
    {
     "name": "stdout",
     "output_type": "stream",
     "text": [
      "True\n"
     ]
    }
   ],
   "source": [
    "#conversions\n",
    "#int() float() str() bool()\n",
    "print(bool(1.2) ) "
   ]
  },
  {
   "cell_type": "code",
   "execution_count": null,
   "metadata": {},
   "outputs": [],
   "source": [
    "#Decision Making :\n",
    "#if\n",
    "animal=\"chat\"\n",
    "if animal==\"chien\": print(\"c'est bien un chien\")\n",
    "#if else\n",
    "animal=\"chien\"\n",
    "if animal==\"chien\": \n",
    "    print(\"c'est bien un chien\")\n",
    "    animal*=2\n",
    "else: print(\"c'est pas un chien\")\n",
    "    \n",
    "print(animal)\n",
    "#if elif elif ... else\n",
    "animal=\"chat\"\n",
    "if animal==\"chien\": \n",
    "    print(\"c'est bien un chien\")\n",
    "elif animal==\"oiseau\":\n",
    "    print(\"c'est un oiseau\")\n",
    "else: \n",
    "    print(\"c'est pas un chien ni un oiseau\")"
   ]
  },
  {
   "cell_type": "code",
   "execution_count": 3,
   "metadata": {},
   "outputs": [
    {
     "name": "stdout",
     "output_type": "stream",
     "text": [
      "quel animal?chat\n",
      "c'est pas un chien ni un oiseau\n"
     ]
    }
   ],
   "source": [
    "#input()\n",
    "animal=input(\"quel animal?\")\n",
    "if animal==\"chien\": \n",
    "    print(\"c'est bien un chien\")\n",
    "elif animal==\"oiseau\":\n",
    "    print(\"c'est un oiseau\")\n",
    "else: \n",
    "    print(\"c'est pas un chien ni un oiseau\")"
   ]
  },
  {
   "cell_type": "code",
   "execution_count": null,
   "metadata": {},
   "outputs": [],
   "source": []
  },
  {
   "cell_type": "code",
   "execution_count": null,
   "metadata": {},
   "outputs": [],
   "source": []
  }
 ],
 "metadata": {
  "kernelspec": {
   "display_name": "Python 3",
   "language": "python",
   "name": "python3"
  },
  "language_info": {
   "codemirror_mode": {
    "name": "ipython",
    "version": 3
   },
   "file_extension": ".py",
   "mimetype": "text/x-python",
   "name": "python",
   "nbconvert_exporter": "python",
   "pygments_lexer": "ipython3",
   "version": "3.6.4"
  }
 },
 "nbformat": 4,
 "nbformat_minor": 2
}
