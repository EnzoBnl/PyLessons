{
 "cells": [
  {
   "cell_type": "code",
   "execution_count": 29,
   "metadata": {},
   "outputs": [],
   "source": [
    "#Variable Types\n",
    "#int\n",
    "i=4\n",
    "i=-2\n",
    "#float\n",
    "f=1.1\n",
    "f=.56\n",
    "#str\n",
    "s=\"hello\"\n",
    "s='hello'\n",
    "s=\"\"\"hello\n",
    "again\"\"\"\n",
    "#complex\n",
    "c=1+2j\n",
    "#bool\n",
    "b=True\n",
    "b=False"
   ]
  },
  {
   "cell_type": "code",
   "execution_count": 30,
   "metadata": {},
   "outputs": [
    {
     "name": "stdout",
     "output_type": "stream",
     "text": [
      "-2\n",
      "0.56\n",
      "hello\n",
      "again\n",
      "(1+2j)\n",
      "False\n"
     ]
    }
   ],
   "source": [
    "#Print\n",
    "print(i)\n",
    "print(f)\n",
    "print(s)\n",
    "print(c)\n",
    "print(b)"
   ]
  },
  {
   "cell_type": "code",
   "execution_count": 59,
   "metadata": {},
   "outputs": [
    {
     "name": "stdout",
     "output_type": "stream",
     "text": [
      "-1.44\n",
      "chienchat\n",
      "chienchien\n",
      "2\n",
      "1\n",
      "25\n",
      "False\n",
      "True\n",
      "True\n",
      "-8.875\n",
      "-1.0\n"
     ]
    }
   ],
   "source": [
    "#Operators on int and float and complex : \n",
    "# + \n",
    "\n",
    "#- \n",
    "\n",
    "#* \n",
    "\n",
    "#/ \n",
    "\n",
    "#// \n",
    "\n",
    "#% \n",
    "\n",
    "#**\n",
    "\n",
    "#On booleans : \n",
    "#and\n",
    "\n",
    "#or\n",
    "\n",
    "#not\n",
    "\n",
    "#Care with parenthesis !\n"
   ]
  },
  {
   "cell_type": "code",
   "execution_count": 44,
   "metadata": {},
   "outputs": [
    {
     "name": "stdout",
     "output_type": "stream",
     "text": [
      "True\n",
      "False\n",
      "True\n"
     ]
    }
   ],
   "source": [
    "#Comparison Operators\n",
    "#Equality : ==\n",
    "\n",
    "#Not equality : !=\n",
    "\n",
    "#greater than, less than : < <= > >=\n"
   ]
  },
  {
   "cell_type": "code",
   "execution_count": 52,
   "metadata": {},
   "outputs": [
    {
     "name": "stdout",
     "output_type": "stream",
     "text": [
      "True\n"
     ]
    }
   ],
   "source": [
    "#conversions\n",
    "#int() float() str() bool()"
   ]
  },
  {
   "cell_type": "code",
   "execution_count": null,
   "metadata": {},
   "outputs": [],
   "source": [
    "#Decision Making :\n",
    "#if\n",
    "\n",
    "#if else\n",
    "\n",
    "#if elif else"
   ]
  },
  {
   "cell_type": "code",
   "execution_count": 3,
   "metadata": {},
   "outputs": [
    {
     "name": "stdout",
     "output_type": "stream",
     "text": [
      "quel animal?chat\n",
      "c'est pas un chien ni un oiseau\n"
     ]
    }
   ],
   "source": [
    "#input()\n"
   ]
  },
  {
   "cell_type": "code",
   "execution_count": null,
   "metadata": {},
   "outputs": [],
   "source": []
  },
  {
   "cell_type": "code",
   "execution_count": null,
   "metadata": {},
   "outputs": [],
   "source": []
  }
 ],
 "metadata": {
  "kernelspec": {
   "display_name": "Python 3",
   "language": "python",
   "name": "python3"
  },
  "language_info": {
   "codemirror_mode": {
    "name": "ipython",
    "version": 3
   },
   "file_extension": ".py",
   "mimetype": "text/x-python",
   "name": "python",
   "nbconvert_exporter": "python",
   "pygments_lexer": "ipython3",
   "version": "3.6.4"
  }
 },
 "nbformat": 4,
 "nbformat_minor": 2
}
