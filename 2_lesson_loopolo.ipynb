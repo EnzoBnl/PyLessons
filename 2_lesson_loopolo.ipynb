{
 "cells": [
  {
   "cell_type": "code",
   "execution_count": 14,
   "metadata": {},
   "outputs": [],
   "source": [
    "#List []\n",
    "l=list()\n",
    "l=[]\n",
    "l=[1,2,3,\"hi\"]\n",
    "#animal names list\n",
    "\n",
    "#operator +\n",
    "\n",
    "#.append()\n",
    "\n",
    "#.pop()\n",
    "\n",
    "#elements access l[_]\n",
    "\n",
    "#sublist l[_:_]\n"
   ]
  },
  {
   "cell_type": "code",
   "execution_count": 16,
   "metadata": {},
   "outputs": [],
   "source": [
    "#Tuple ()\n",
    "t=tuple()\n",
    "t=()\n",
    "t=(1,2,3,\"hi\")\n",
    "\n",
    "#elements access t[_]"
   ]
  },
  {
   "cell_type": "code",
   "execution_count": null,
   "metadata": {},
   "outputs": [],
   "source": [
    "#Dict {}\n",
    "d=dict()\n",
    "d={}\n",
    "d={\"hello\" : 5, \"goodbye\" : 7}\n",
    "\n",
    "#elements access d[_]\n"
   ]
  },
  {
   "cell_type": "code",
   "execution_count": null,
   "metadata": {},
   "outputs": [],
   "source": [
    "#Set {}\n",
    "s=set()\n",
    "s={1,3,2,3}\n",
    "\n",
    "#.add()\n",
    "\n",
    "#"
   ]
  },
  {
   "cell_type": "code",
   "execution_count": null,
   "metadata": {},
   "outputs": [],
   "source": [
    "#Range\n",
    "#range(end)\n",
    "r = range(10)\n",
    "\n",
    "#range(start, end)\n",
    "\n",
    "#range(start, end, by)"
   ]
  },
  {
   "cell_type": "code",
   "execution_count": 29,
   "metadata": {},
   "outputs": [
    {
     "name": "stdout",
     "output_type": "stream",
     "text": [
      "1\n",
      "2\n",
      "3\n",
      "4\n",
      "5\n",
      "6\n",
      "7\n",
      "8\n",
      "9\n"
     ]
    }
   ],
   "source": [
    "#for loop\n",
    "for i in range(1,10):\n",
    "    print(i)"
   ]
  },
  {
   "cell_type": "code",
   "execution_count": null,
   "metadata": {},
   "outputs": [],
   "source": []
  },
  {
   "cell_type": "code",
   "execution_count": 10,
   "metadata": {},
   "outputs": [
    {
     "name": "stdout",
     "output_type": "stream",
     "text": [
      "1\n",
      "2\n",
      "3\n",
      "4\n",
      "5\n",
      "6\n",
      "7\n",
      "8\n",
      "9\n"
     ]
    }
   ],
   "source": [
    "#while loop\n",
    "i=1\n",
    "while i<10:\n",
    "    print(i)\n",
    "    i+=1"
   ]
  },
  {
   "cell_type": "code",
   "execution_count": null,
   "metadata": {},
   "outputs": [],
   "source": []
  },
  {
   "cell_type": "code",
   "execution_count": null,
   "metadata": {},
   "outputs": [],
   "source": [
    "#break, continue"
   ]
  },
  {
   "cell_type": "code",
   "execution_count": 28,
   "metadata": {},
   "outputs": [
    {
     "name": "stdout",
     "output_type": "stream",
     "text": [
      "[0, 1, 4, 9, 16, 25, 36, 49, 64, 81]\n",
      "{0: 0, 1: 1, 2: 4, 3: 9, 4: 16, 5: 25, 6: 36, 7: 49, 8: 64, 9: 81}\n",
      "(0, 1, 4, 9, 16, 25, 36, 49, 64, 81)\n",
      "{0, 1, 64, 4, 36, 9, 16, 49, 81, 25}\n"
     ]
    }
   ],
   "source": [
    "#\"creation by comprehension\"\n",
    "#list\n",
    "list_squares = [x**2 for x in range(0,10)]\n",
    "print(list_squares)\n",
    "\n",
    "#dict\n",
    "dict_squares = {x : x**2 for x in range(0,10)}\n",
    "print(dict_squares)\n",
    "\n",
    "#tuple\n",
    "tuple_squares = tuple(x**2 for x in range(0,10))\n",
    "print(tuple_squares)\n",
    "\n",
    "#set\n",
    "set_squares = {x**2 for x in range(0,10)}\n",
    "print(set_squares)"
   ]
  },
  {
   "cell_type": "code",
   "execution_count": null,
   "metadata": {},
   "outputs": [],
   "source": []
  },
  {
   "cell_type": "code",
   "execution_count": 34,
   "metadata": {},
   "outputs": [
    {
     "name": "stdout",
     "output_type": "stream",
     "text": [
      "list of lists :\n",
      "[['Jean', 'Dupond', 32], ['Stephane', 'Dupond', 32], ['Sebastien', 'Moreau', 25]]\n",
      "numpy array :\n",
      "[['Jean' 'Dupond' '32']\n",
      " ['Stephane' 'Dupond' '32']\n",
      " ['Sebastien' 'Moreau' '25']]\n"
     ]
    }
   ],
   "source": [
    "#Multidimensional arrays:\n",
    "#list of lists\n",
    "prenom_nom_age = [[\"Jean\", \"Dupond\", 32], [\"Stephane\", \"Dupond\", 32], [\"Sebastien\", \"Moreau\", 25]]\n",
    "print(\"list of lists :\\n\" + str(prenom_nom_age))\n",
    "\n",
    "#numPy array\n",
    "from numpy import *\n",
    "prenom_nom_age = array(prenom_nom_age)\n",
    "print(\"numpy array :\\n\" + str(prenom_nom_age))"
   ]
  },
  {
   "cell_type": "code",
   "execution_count": null,
   "metadata": {},
   "outputs": [],
   "source": []
  },
  {
   "cell_type": "code",
   "execution_count": 40,
   "metadata": {},
   "outputs": [
    {
     "data": {
      "text/plain": [
       "array([[1., 2., 3.],\n",
       "       [1., 2., 3.],\n",
       "       [1., 2., 3.]])"
      ]
     },
     "execution_count": 40,
     "metadata": {},
     "output_type": "execute_result"
    }
   ],
   "source": [
    "#numPy array operations\n",
    "a=array([[1,2,3], [1,2,3], [1,2,3]])\n",
    "b=array([[1,1,1], [1,1,1], [1,1,1]])\n",
    "\n",
    "#+\n",
    "\n",
    "#*\n",
    "\n",
    "#.dot()"
   ]
  },
  {
   "cell_type": "code",
   "execution_count": 15,
   "metadata": {},
   "outputs": [],
   "source": [
    "#word by word traductor!\n",
    "#\n",
    "string_to_trad = \"i am in the kitchen\"\n",
    "#dictionnaire_fr_en\n",
    "\n",
    "#split string into list of words with a loop\n"
   ]
  },
  {
   "cell_type": "code",
   "execution_count": null,
   "metadata": {},
   "outputs": [],
   "source": [
    "#strings built in functions\n",
    "#split method\n",
    "\n",
    "#join method\n",
    "\n",
    "#index method\n"
   ]
  },
  {
   "cell_type": "code",
   "execution_count": null,
   "metadata": {},
   "outputs": [],
   "source": [
    "#NEW VERSION of our word by word traductor using above methods!"
   ]
  }
 ],
 "metadata": {
  "kernelspec": {
   "display_name": "Python 3",
   "language": "python",
   "name": "python3"
  },
  "language_info": {
   "codemirror_mode": {
    "name": "ipython",
    "version": 3
   },
   "file_extension": ".py",
   "mimetype": "text/x-python",
   "name": "python",
   "nbconvert_exporter": "python",
   "pygments_lexer": "ipython3",
   "version": "3.6.4"
  }
 },
 "nbformat": 4,
 "nbformat_minor": 2
}
