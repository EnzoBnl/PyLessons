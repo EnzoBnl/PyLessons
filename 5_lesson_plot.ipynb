{
 "cells": [
  {
   "cell_type": "code",
   "execution_count": null,
   "metadata": {},
   "outputs": [],
   "source": [
    "%matplotlib notebook\n",
    "import matplotlib.pyplot as plt"
   ]
  },
  {
   "cell_type": "code",
   "execution_count": null,
   "metadata": {},
   "outputs": [],
   "source": [
    "#create a figure :\n",
    "figure = plt.figure()\n",
    "#create axes on this figure\n",
    "axes = figure.add_subplot(111)\n",
    "#create abscisses and ordinates lists\n",
    "\n",
    "#plot them in our axes : .plot(...)\n",
    "\n",
    "#add another courb : .plot(...)\n",
    "\n",
    "#several subplots\n",
    "#create new figure \n",
    "\n",
    "#create new axes\n",
    "\n",
    "#plot a courb\n",
    "\n",
    "#plot another subplot\n",
    "\n",
    "#plot an histogram .hist(...)\n",
    "\n",
    "#plot a 2d histogram .hist2d(...)\n",
    "\n",
    "#plot a 3D plot .add_subplot(... , projection = '3d')\n"
   ]
  }
 ],
 "metadata": {
  "kernelspec": {
   "display_name": "Python 3",
   "language": "python",
   "name": "python3"
  }
 },
 "nbformat": 4,
 "nbformat_minor": 2
}
