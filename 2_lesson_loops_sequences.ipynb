{
 "cells": [
  {
   "cell_type": "code",
   "execution_count": null,
   "metadata": {},
   "outputs": [],
   "source": [
    "#List []\n",
    "l=list()\n",
    "l=[]\n",
    "l=[1,2,3,\"hi\"]\n",
    "#animal names list\n",
    "\n",
    "#operator +\n",
    "\n",
    "#.append()\n",
    "\n",
    "#.pop()\n",
    "\n",
    "#elements access l[_]\n",
    "\n",
    "#sublist l[_:_]\n"
   ]
  },
  {
   "cell_type": "code",
   "execution_count": null,
   "metadata": {},
   "outputs": [],
   "source": [
    "#Tuple ()\n",
    "t=tuple()\n",
    "t=()\n",
    "t=(1,2,3,\"hi\")\n",
    "\n",
    "#elements access t[_]"
   ]
  },
  {
   "cell_type": "code",
   "execution_count": null,
   "metadata": {},
   "outputs": [],
   "source": [
    "#Dict {}\n",
    "d=dict()\n",
    "d={}\n",
    "d={\"hello\" : 5, \"goodbye\" : 7}\n",
    "\n",
    "#elements access d[_]\n"
   ]
  },
  {
   "cell_type": "code",
   "execution_count": null,
   "metadata": {},
   "outputs": [],
   "source": [
    "#Set {}\n",
    "s=set()\n",
    "s={1,3,2,3}\n",
    "\n",
    "#.add()\n",
    "\n",
    "#"
   ]
  },
  {
   "cell_type": "code",
   "execution_count": null,
   "metadata": {},
   "outputs": [],
   "source": [
    "#Range\n",
    "#range(end)\n",
    "r = range(10)\n",
    "\n",
    "#range(start, end)\n",
    "\n",
    "#range(start, end, by)"
   ]
  },
  {
   "cell_type": "code",
   "execution_count": null,
   "metadata": {},
   "outputs": [],
   "source": [
    "#for loop\n",
    "for i in range(1,10):\n",
    "    print(i)"
   ]
  },
  {
   "cell_type": "code",
   "execution_count": null,
   "metadata": {},
   "outputs": [],
   "source": []
  },
  {
   "cell_type": "code",
   "execution_count": null,
   "metadata": {},
   "outputs": [],
   "source": [
    "#while loop\n",
    "i=1\n",
    "while i<10:\n",
    "    print(i)\n",
    "    i+=1"
   ]
  },
  {
   "cell_type": "code",
   "execution_count": null,
   "metadata": {},
   "outputs": [],
   "source": []
  },
  {
   "cell_type": "code",
   "execution_count": null,
   "metadata": {},
   "outputs": [],
   "source": [
    "#break, continue"
   ]
  },
  {
   "cell_type": "code",
   "execution_count": null,
   "metadata": {},
   "outputs": [],
   "source": [
    "#\"creation by comprehension\"\n",
    "#list\n",
    "list_squares = [x**2 for x in range(0,10)]\n",
    "print(list_squares)\n",
    "\n",
    "#dict\n",
    "dict_squares = {x : x**2 for x in range(0,10)}\n",
    "print(dict_squares)\n",
    "\n",
    "#tuple\n",
    "tuple_squares = tuple(x**2 for x in range(0,10))\n",
    "print(tuple_squares)\n",
    "\n",
    "#set\n",
    "set_squares = {x**2 for x in range(0,10)}\n",
    "print(set_squares)"
   ]
  },
  {
   "cell_type": "code",
   "execution_count": null,
   "metadata": {},
   "outputs": [],
   "source": []
  },
  {
   "cell_type": "code",
   "execution_count": null,
   "metadata": {},
   "outputs": [],
   "source": [
    "#Multidimensional arrays:\n",
    "#list of lists\n",
    "prenom_nom_age = [[\"Jean\", \"Dupond\", 32], [\"Stephane\", \"Dupond\", 32], [\"Sebastien\", \"Moreau\", 25]]\n",
    "print(\"list of lists :\\n\" + str(prenom_nom_age))\n",
    "\n",
    "#numPy array\n",
    "from numpy import *\n",
    "prenom_nom_age = array(prenom_nom_age)\n",
    "print(\"numpy array :\\n\" + str(prenom_nom_age))"
   ]
  },
  {
   "cell_type": "code",
   "execution_count": null,
   "metadata": {},
   "outputs": [],
   "source": []
  },
  {
   "cell_type": "code",
   "execution_count": null,
   "metadata": {},
   "outputs": [],
   "source": [
    "#numPy array operations\n",
    "a=array([[1,2,3], [1,2,3], [1,2,3]])\n",
    "b=array([[1,1,1], [1,1,1], [1,1,1]])\n",
    "\n",
    "#+\n",
    "\n",
    "#*\n",
    "\n",
    "#.dot()"
   ]
  },
  {
   "cell_type": "code",
   "execution_count": 27,
   "metadata": {},
   "outputs": [
    {
     "data": {
      "text/plain": [
       "'je suis dans la cuisine'"
      ]
     },
     "execution_count": 27,
     "metadata": {},
     "output_type": "execute_result"
    }
   ],
   "source": [
    "#word by word traductor!\n",
    "#\n",
    "string_to_trad = \"I am in the kitchen\"\n",
    "dict_trad={'I':'je','in':'dans','am':'suis', 'the' : 'la', 'kitchen':'cuisine'}\n",
    "#split string into list of words with a loop\n",
    "\n",
    "#trad the words of the list\n",
    "\n",
    "#construct the translated string\n"
   ]
  },
  {
   "cell_type": "code",
   "execution_count": null,
   "metadata": {},
   "outputs": [],
   "source": [
    "#strings built in functions\n",
    "#split method\n",
    "\n",
    "#join method\n",
    "\n",
    "#index method\n"
   ]
  },
  {
   "cell_type": "code",
   "execution_count": null,
   "metadata": {},
   "outputs": [],
   "source": [
    "#NEW VERSION (quicker) of our word by word traductor using ABOVE METHODS and COMPREHENSION CONSTRUCTORS"
   ]
  },
  {
   "cell_type": "code",
   "execution_count": 23,
   "metadata": {},
   "outputs": [],
   "source": [
    "#some calculations with loops\n",
    "notes=[12,15,8,12.5,14,14.2,14.1,18,10.5]\n",
    "#sum\n",
    "#len\n",
    "#max\n",
    "#min"
   ]
  },
  {
   "cell_type": "code",
   "execution_count": null,
   "metadata": {},
   "outputs": [],
   "source": []
  }
 ],
 "metadata": {
  "kernelspec": {
   "display_name": "Python 3",
   "language": "python",
   "name": "python3"
  },
  "language_info": {
   "codemirror_mode": {
    "name": "ipython",
    "version": 3
   },
   "file_extension": ".py",
   "mimetype": "text/x-python",
   "name": "python",
   "nbconvert_exporter": "python",
   "pygments_lexer": "ipython3",
   "version": "3.6.4"
  }
 },
 "nbformat": 4,
 "nbformat_minor": 2
}
