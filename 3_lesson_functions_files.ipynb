{
 "cells": [
  {
   "cell_type": "code",
   "execution_count": null,
   "metadata": {},
   "outputs": [],
   "source": [
    "#functions definition\n",
    "def hi():\n",
    "    print(\"Hi !\")\n",
    "    \n",
    "#parameters\n",
    "\n",
    "#return\n"
   ]
  },
  {
   "cell_type": "code",
   "execution_count": null,
   "metadata": {},
   "outputs": [],
   "source": [
    "#functions description"
   ]
  },
  {
   "cell_type": "code",
   "execution_count": null,
   "metadata": {},
   "outputs": [],
   "source": [
    "#recursive function"
   ]
  },
  {
   "cell_type": "code",
   "execution_count": null,
   "metadata": {},
   "outputs": [],
   "source": [
    "#nested functions"
   ]
  },
  {
   "cell_type": "code",
   "execution_count": null,
   "metadata": {},
   "outputs": [],
   "source": [
    "#default parameters"
   ]
  },
  {
   "cell_type": "code",
   "execution_count": null,
   "metadata": {},
   "outputs": [],
   "source": [
    "#variables scope\n",
    "#local def > parameter\n",
    "def f1(x):\n",
    "    x=40\n",
    "    print(x)\n"
   ]
  },
  {
   "cell_type": "code",
   "execution_count": null,
   "metadata": {},
   "outputs": [],
   "source": [
    "#variables scope\n",
    "#parameter > global def\n",
    "a=10\n",
    "def f2(a):\n",
    "    print(a)"
   ]
  },
  {
   "cell_type": "code",
   "execution_count": null,
   "metadata": {},
   "outputs": [],
   "source": [
    "#variables scope \n",
    "#global keyword\n",
    "b=True\n",
    "def f3():\n",
    "    b=False\n",
    "f3()\n",
    "print(b)\n",
    "\n",
    "#add global declaration of b"
   ]
  },
  {
   "cell_type": "code",
   "execution_count": null,
   "metadata": {},
   "outputs": [],
   "source": [
    "#Files\n",
    "#open in write mode\n",
    "myfile = open(\"test.txt\",\"w\")\n",
    "#.write(content)\n",
    "\n",
    "#.close()\n",
    "\n",
    "#open in write mode\n",
    "myfile = open(\"test.txt\",\"r\")\n",
    "#.read()\n",
    "\n",
    "#.close()\n",
    "\n",
    "#remove a file\n",
    "import os \n",
    "os.remove(\"test.txt\")\n"
   ]
  },
  {
   "cell_type": "code",
   "execution_count": null,
   "metadata": {},
   "outputs": [],
   "source": []
  },
  {
   "cell_type": "code",
   "execution_count": null,
   "metadata": {},
   "outputs": [],
   "source": [
    "#INSTALL an external package : \n",
    "#step 1 : add pip to your path\n",
    "#step 2 : lancer pip install <package_name>\n",
    "#GOOGLE TRANSLATE \n",
    "from googletrans import Translator\n",
    "translator = Translator()\n",
    "print(translator.translate('안녕하세요.', dest='ja').text)\n",
    "print(translator.translate('veritas lux mea', src='la', dest='fr').text)\n",
    "#country codes : https://www.worldatlas.com/aatlas/ctycodes.htm"
   ]
  },
  {
   "cell_type": "code",
   "execution_count": null,
   "metadata": {},
   "outputs": [],
   "source": [
    "#function printing the translation in all the langages given\n",
    "def multitranslatings\n",
    "\n",
    "\n",
    "\n",
    "multitranslatings(\"Bonjour à tous\", ['la','ja','en'])"
   ]
  }
 ],
 "metadata": {
  "kernelspec": {
   "display_name": "Python 3",
   "language": "python",
   "name": "python3"
  },
  "language_info": {
   "codemirror_mode": {
    "name": "ipython",
    "version": 3
   },
   "file_extension": ".py",
   "mimetype": "text/x-python",
   "name": "python",
   "nbconvert_exporter": "python",
   "pygments_lexer": "ipython3",
   "version": "3.6.4"
  }
 },
 "nbformat": 4,
 "nbformat_minor": 2
}
