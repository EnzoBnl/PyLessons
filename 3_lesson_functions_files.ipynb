{
 "cells": [
  {
   "cell_type": "code",
   "execution_count": null,
   "metadata": {},
   "outputs": [],
   "source": [
    "#definition\n",
    "def say_hi():\n",
    "    print(\"hi !\")\n",
    "#parameters\n",
    "\n",
    "#return\n",
    "\n",
    "#description"
   ]
  },
  {
   "cell_type": "code",
   "execution_count": 18,
   "metadata": {
    "scrolled": true
   },
   "outputs": [],
   "source": [
    "#default parameters/keyword parameters\n",
    "#variable number of parameters/keywordparameters"
   ]
  },
  {
   "cell_type": "code",
   "execution_count": 32,
   "metadata": {},
   "outputs": [],
   "source": [
    "#recursive function"
   ]
  },
  {
   "cell_type": "code",
   "execution_count": null,
   "metadata": {},
   "outputs": [],
   "source": [
    "#variables scope\n",
    "#local def > parameter\n",
    "def f1(x):\n",
    "    x=40\n",
    "    print(x)\n"
   ]
  },
  {
   "cell_type": "code",
   "execution_count": null,
   "metadata": {},
   "outputs": [],
   "source": [
    "#variables scope\n",
    "#parameter > global def\n",
    "a=10\n",
    "def f2(a):\n",
    "    print(a)"
   ]
  },
  {
   "cell_type": "code",
   "execution_count": 81,
   "metadata": {},
   "outputs": [
    {
     "ename": "PermissionError",
     "evalue": "[WinError 32] The process cannot access the file because it is being used by another process: 'test.txt'",
     "output_type": "error",
     "traceback": [
      "\u001b[1;31m---------------------------------------------------------------------------\u001b[0m",
      "\u001b[1;31mPermissionError\u001b[0m                           Traceback (most recent call last)",
      "\u001b[1;32m<ipython-input-81-d144c66e690b>\u001b[0m in \u001b[0;36m<module>\u001b[1;34m()\u001b[0m\n\u001b[0;32m     14\u001b[0m \u001b[1;31m#remove a file\u001b[0m\u001b[1;33m\u001b[0m\u001b[1;33m\u001b[0m\u001b[0m\n\u001b[0;32m     15\u001b[0m \u001b[1;32mimport\u001b[0m \u001b[0mos\u001b[0m\u001b[1;33m\u001b[0m\u001b[0m\n\u001b[1;32m---> 16\u001b[1;33m \u001b[0mos\u001b[0m\u001b[1;33m.\u001b[0m\u001b[0mremove\u001b[0m\u001b[1;33m(\u001b[0m\u001b[1;34m\"test.txt\"\u001b[0m\u001b[1;33m)\u001b[0m\u001b[1;33m\u001b[0m\u001b[0m\n\u001b[0m",
      "\u001b[1;31mPermissionError\u001b[0m: [WinError 32] The process cannot access the file because it is being used by another process: 'test.txt'"
     ]
    }
   ],
   "source": [
    "#Files\n",
    "#open in write mode\n",
    "myfile = open(\"test.txt\",\"w\")\n",
    "#.write(content)\n",
    "\n",
    "#.close()\n",
    "\n",
    "#open in write mode\n",
    "myfile = open(\"test.txt\",\"r\")\n",
    "#.read()\n",
    "\n",
    "#.close()\n",
    "\n",
    "#remove a file\n",
    "import os \n",
    "os.remove(\"test.txt\")\n"
   ]
  },
  {
   "cell_type": "code",
   "execution_count": null,
   "metadata": {},
   "outputs": [],
   "source": [
    "#INSTALL an external package : \n",
    "#step 1 : add pip to your path\n",
    "#step 2 : lancer pip install <package_name>\n",
    "#GOOGLE TRANSLATE \n",
    "from googletrans import Translator\n",
    "translator = Translator()\n",
    "print(translator.translate('안녕하세요.', dest='ja').text)\n",
    "print(translator.translate('veritas lux mea', src='la', dest='fr').text)\n",
    "#country codes : https://www.worldatlas.com/aatlas/ctycodes.htm"
   ]
  },
  {
   "cell_type": "code",
   "execution_count": null,
   "metadata": {},
   "outputs": [],
   "source": [
    "#function printing the translation in all the langages (english by default) given and writing the result in different files\n",
    "def multi_translating\n",
    "    def translating\n",
    "\n",
    "\n",
    "\n",
    "multitranslatings(\"Bonjour à tous\", ['la','ja','en'])"
   ]
  },
  {
   "cell_type": "code",
   "execution_count": null,
   "metadata": {},
   "outputs": [],
   "source": [
    "#lambda functions"
   ]
  },
  {
   "cell_type": "code",
   "execution_count": null,
   "metadata": {},
   "outputs": [],
   "source": [
    "#decorators\n",
    "def f(function):\n",
    "    print(\"pre_traitement\")\n",
    "    return function\n",
    "@f\n",
    "def g():print(7)\n",
    "g()"
   ]
  },
  {
   "cell_type": "code",
   "execution_count": null,
   "metadata": {},
   "outputs": [],
   "source": [
    "#global keyword:\n",
    "#need to be used if there is an ambiguity, by default 'a' variable will be considered as local :\n",
    "#a = ... -> 'a' is locally defined\n",
    "#a += ... -> 'a' is locally defined\n",
    "#... = 'a' ->  'a' is searched in local scope and then in above scopes till global scope and imports\n",
    "#a[0] = ... ->  'a' is searched in local scope and then in above scopes till global scope and imports\n",
    "#a.arg = ... -> 'a' is searched in local scope and then in above scopes till global scope and imports\n",
    "#if 'a' locally defined somewhere (even if the statement is never executed) INSIDE A FUNCTION/METHOD, \n",
    "#'a' will be considered as a local variable in the function scope from the start to the end of the function (and especially,\n",
    "#if you use the variable 'a' before its local definition, an error will be raised"
   ]
  }
 ],
 "metadata": {
  "kernelspec": {
   "display_name": "Python 3",
   "language": "python",
   "name": "python3"
  },
  "language_info": {
   "codemirror_mode": {
    "name": "ipython",
    "version": 3
   },
   "file_extension": ".py",
   "mimetype": "text/x-python",
   "name": "python",
   "nbconvert_exporter": "python",
   "pygments_lexer": "ipython3",
   "version": "3.6.4"
  }
 },
 "nbformat": 4,
 "nbformat_minor": 2
}
