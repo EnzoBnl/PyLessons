{
 "cells": [
  {
   "cell_type": "code",
   "execution_count": null,
   "metadata": {},
   "outputs": [],
   "source": [
    "#Variable Types\n",
    "#int\n",
    "i=4\n",
    "i=-2\n",
    "#float\n",
    "f=1.1\n",
    "f=.56\n",
    "#str\n",
    "s=\"hello\"\n",
    "s='hello'\n",
    "s=\"\"\"hello\n",
    "again\"\"\"\n",
    "#complex\n",
    "c=1+2j\n",
    "#bool\n",
    "b=True\n",
    "b=False"
   ]
  },
  {
   "cell_type": "code",
   "execution_count": null,
   "metadata": {},
   "outputs": [],
   "source": [
    "#Print\n",
    "print(i)\n",
    "print(f)\n",
    "print(s)\n",
    "print(c)\n",
    "print(b)"
   ]
  },
  {
   "cell_type": "code",
   "execution_count": null,
   "metadata": {},
   "outputs": [],
   "source": [
    "#Operators on int and float and complex : \n",
    "# + \n",
    "\n",
    "#- \n",
    "\n",
    "#* \n",
    "\n",
    "#/ \n",
    "\n",
    "#// \n",
    "\n",
    "#% \n",
    "\n",
    "#**\n",
    "\n",
    "#On booleans : \n",
    "#and\n",
    "\n",
    "#or\n",
    "\n",
    "#not\n",
    "\n",
    "#Care with parenthesis !\n",
    "\n",
    "#on strings :\n",
    "#character access s[_]\n",
    "\n",
    "#substring s[_:_]\n",
    "\n",
    "#escaping back slash\n",
    "#\\\"\n",
    "\n",
    "#\\n\n"
   ]
  },
  {
   "cell_type": "code",
   "execution_count": null,
   "metadata": {},
   "outputs": [],
   "source": [
    "#Comparison Operators\n",
    "#Equality : ==\n",
    "\n",
    "#Not equality : !=\n",
    "\n",
    "#greater than, less than : < <= > >=\n"
   ]
  },
  {
   "cell_type": "code",
   "execution_count": null,
   "metadata": {},
   "outputs": [],
   "source": [
    "#conversions\n",
    "#int() float() str() bool()"
   ]
  },
  {
   "cell_type": "code",
   "execution_count": null,
   "metadata": {},
   "outputs": [],
   "source": [
    "#Decision Making :\n",
    "#if\n",
    "\n",
    "#if else\n",
    "\n",
    "#if elif else"
   ]
  },
  {
   "cell_type": "code",
   "execution_count": null,
   "metadata": {},
   "outputs": [],
   "source": [
    "#input()"
   ]
  },
  {
   "cell_type": "code",
   "execution_count": null,
   "metadata": {},
   "outputs": [],
   "source": [
    "#variable deletion using del"
   ]
  }
 ],
 "metadata": {
  "kernelspec": {
   "display_name": "Python 3",
   "language": "python",
   "name": "python3"
  },
  "language_info": {
   "codemirror_mode": {
    "name": "ipython",
    "version": 3
   },
   "file_extension": ".py",
   "mimetype": "text/x-python",
   "name": "python",
   "nbconvert_exporter": "python",
   "pygments_lexer": "ipython3",
   "version": "3.6.4"
  }
 },
 "nbformat": 4,
 "nbformat_minor": 2
}
